{
 "cells": [
  {
   "cell_type": "code",
   "execution_count": 2,
   "metadata": {},
   "outputs": [
    {
     "name": "stdout",
     "output_type": "stream",
     "text": [
      "Collecting package metadata (current_repodata.json): done\n",
      "Solving environment: / \n",
      "The environment is inconsistent, please check the package plan carefully\n",
      "The following packages are causing the inconsistency:\n",
      "\n",
      "  - defaults/osx-64::anaconda==2019.07=py37_0\n",
      "  - defaults/osx-64::numba==0.44.1=py37h6440ff4_0\n",
      "done\n",
      "\n",
      "## Package Plan ##\n",
      "\n",
      "  environment location: /Users/gejiazhang/anaconda3\n",
      "\n",
      "  added / updated specs:\n",
      "    - pytorch\n",
      "    - torchvision\n",
      "\n",
      "\n",
      "The following packages will be downloaded:\n",
      "\n",
      "    package                    |            build\n",
      "    ---------------------------|-----------------\n",
      "    conda-4.8.3                |           py37_0         2.8 MB\n",
      "    ninja-1.9.0                |   py37h04f5b5a_0          90 KB\n",
      "    pytorch-1.5.0              |          py3.7_0        34.7 MB  pytorch\n",
      "    tbb-2020.0                 |       h04f5b5a_0         150 KB\n",
      "    torchvision-0.6.0          |         py37_cpu         5.8 MB  pytorch\n",
      "    ------------------------------------------------------------\n",
      "                                           Total:        43.6 MB\n",
      "\n",
      "The following NEW packages will be INSTALLED:\n",
      "\n",
      "  ninja              pkgs/main/osx-64::ninja-1.9.0-py37h04f5b5a_0\n",
      "  pytorch            pytorch/osx-64::pytorch-1.5.0-py3.7_0\n",
      "  tbb                pkgs/main/osx-64::tbb-2020.0-h04f5b5a_0\n",
      "  torchvision        pytorch/osx-64::torchvision-0.6.0-py37_cpu\n",
      "\n",
      "The following packages will be UPDATED:\n",
      "\n",
      "  conda                                       4.7.12-py37_0 --> 4.8.3-py37_0\n",
      "\n",
      "\n",
      "\n",
      "Downloading and Extracting Packages\n",
      "torchvision-0.6.0    | 5.8 MB    | ##################################### | 100% \n",
      "pytorch-1.5.0        | 34.7 MB   | ##################################### | 100% \n",
      "tbb-2020.0           | 150 KB    | ##################################### | 100% \n",
      "ninja-1.9.0          | 90 KB     | ##################################### | 100% \n",
      "conda-4.8.3          | 2.8 MB    | ##################################### | 100% \n",
      "Preparing transaction: done\n",
      "Verifying transaction: done\n",
      "Executing transaction: done\n",
      "\n",
      "Note: you may need to restart the kernel to use updated packages.\n"
     ]
    }
   ],
   "source": [
    "conda install pytorch torchvision -c pytorch"
   ]
  },
  {
   "cell_type": "code",
   "execution_count": 1,
   "metadata": {},
   "outputs": [
    {
     "name": "stdout",
     "output_type": "stream",
     "text": [
      "tensor([[0.6074, 0.6989, 0.7023],\n",
      "        [0.4902, 0.0411, 0.2032],\n",
      "        [0.8491, 0.2911, 0.2335],\n",
      "        [0.9102, 0.6447, 0.3459],\n",
      "        [0.3845, 0.3377, 0.0258]])\n"
     ]
    }
   ],
   "source": [
    "from __future__ import print_function\n",
    "import torch\n",
    "x = torch.rand(5, 3)\n",
    "print(x)"
   ]
  },
  {
   "cell_type": "code",
   "execution_count": 2,
   "metadata": {},
   "outputs": [],
   "source": [
    "import torch\n",
    "import torchvision"
   ]
  },
  {
   "cell_type": "code",
   "execution_count": 3,
   "metadata": {},
   "outputs": [
    {
     "data": {
      "text/plain": [
       "<torch._C.Generator at 0x10659bf10>"
      ]
     },
     "execution_count": 3,
     "metadata": {},
     "output_type": "execute_result"
    }
   ],
   "source": [
    "n_epochs = 3\n",
    "batch_size_train = 64\n",
    "batch_size_test = 1000\n",
    "learning_rate = 0.01\n",
    "momentum = 0.5\n",
    "log_interval = 10\n",
    "\n",
    "random_seed = 1\n",
    "torch.backends.cudnn.enabled = False\n",
    "torch.manual_seed(random_seed)"
   ]
  },
  {
   "cell_type": "code",
   "execution_count": 4,
   "metadata": {},
   "outputs": [
    {
     "name": "stdout",
     "output_type": "stream",
     "text": [
      "Downloading http://yann.lecun.com/exdb/mnist/train-images-idx3-ubyte.gz to ./Documents/PythonWorkspace/MNIST/raw/train-images-idx3-ubyte.gz\n"
     ]
    },
    {
     "data": {
      "application/vnd.jupyter.widget-view+json": {
       "model_id": "ce4d3e0da0d14402976072eec11e6ccd",
       "version_major": 2,
       "version_minor": 0
      },
      "text/plain": [
       "HBox(children=(IntProgress(value=1, bar_style='info', max=1), HTML(value='')))"
      ]
     },
     "metadata": {},
     "output_type": "display_data"
    },
    {
     "name": "stdout",
     "output_type": "stream",
     "text": [
      "Extracting ./Documents/PythonWorkspace/MNIST/raw/train-images-idx3-ubyte.gz to ./Documents/PythonWorkspace/MNIST/raw\n",
      "Downloading http://yann.lecun.com/exdb/mnist/train-labels-idx1-ubyte.gz to ./Documents/PythonWorkspace/MNIST/raw/train-labels-idx1-ubyte.gz\n"
     ]
    },
    {
     "data": {
      "application/vnd.jupyter.widget-view+json": {
       "model_id": "8bd69abf9c884ecf95b94406272579ea",
       "version_major": 2,
       "version_minor": 0
      },
      "text/plain": [
       "HBox(children=(IntProgress(value=1, bar_style='info', max=1), HTML(value='')))"
      ]
     },
     "metadata": {},
     "output_type": "display_data"
    },
    {
     "name": "stdout",
     "output_type": "stream",
     "text": [
      "Extracting ./Documents/PythonWorkspace/MNIST/raw/train-labels-idx1-ubyte.gz to ./Documents/PythonWorkspace/MNIST/raw\n",
      "Downloading http://yann.lecun.com/exdb/mnist/t10k-images-idx3-ubyte.gz to ./Documents/PythonWorkspace/MNIST/raw/t10k-images-idx3-ubyte.gz\n"
     ]
    },
    {
     "data": {
      "application/vnd.jupyter.widget-view+json": {
       "model_id": "9b312d856cee4c71831c10ba009bb0bf",
       "version_major": 2,
       "version_minor": 0
      },
      "text/plain": [
       "HBox(children=(IntProgress(value=1, bar_style='info', max=1), HTML(value='')))"
      ]
     },
     "metadata": {},
     "output_type": "display_data"
    },
    {
     "name": "stdout",
     "output_type": "stream",
     "text": [
      "Extracting ./Documents/PythonWorkspace/MNIST/raw/t10k-images-idx3-ubyte.gz to ./Documents/PythonWorkspace/MNIST/raw\n",
      "Downloading http://yann.lecun.com/exdb/mnist/t10k-labels-idx1-ubyte.gz to ./Documents/PythonWorkspace/MNIST/raw/t10k-labels-idx1-ubyte.gz\n"
     ]
    },
    {
     "data": {
      "application/vnd.jupyter.widget-view+json": {
       "model_id": "53e0cfb57cdb4df693ac607b83eff6a8",
       "version_major": 2,
       "version_minor": 0
      },
      "text/plain": [
       "HBox(children=(IntProgress(value=1, bar_style='info', max=1), HTML(value='')))"
      ]
     },
     "metadata": {},
     "output_type": "display_data"
    },
    {
     "name": "stdout",
     "output_type": "stream",
     "text": [
      "Extracting ./Documents/PythonWorkspace/MNIST/raw/t10k-labels-idx1-ubyte.gz to ./Documents/PythonWorkspace/MNIST/raw\n",
      "Processing...\n"
     ]
    },
    {
     "name": "stderr",
     "output_type": "stream",
     "text": [
      "/Users/distiller/project/conda/conda-bld/pytorch_1587428061935/work/torch/csrc/utils/tensor_numpy.cpp:141: UserWarning: The given NumPy array is not writeable, and PyTorch does not support non-writeable tensors. This means you can write to the underlying (supposedly non-writeable) NumPy array using the tensor. You may want to copy the array to protect its data or make it writeable before converting it to a tensor. This type of warning will be suppressed for the rest of this program.\n"
     ]
    },
    {
     "name": "stdout",
     "output_type": "stream",
     "text": [
      "Done!\n"
     ]
    }
   ],
   "source": [
    "train_loader = torch.utils.data.DataLoader(\n",
    "  torchvision.datasets.MNIST('./Documents/PythonWorkspace', train=True, download=True,\n",
    "                             transform=torchvision.transforms.Compose([\n",
    "                               torchvision.transforms.ToTensor(),\n",
    "                               torchvision.transforms.Normalize(\n",
    "                                 (0.1307,), (0.3081,))\n",
    "                             ])),\n",
    "  batch_size=batch_size_train, shuffle=True)\n",
    "\n",
    "test_loader = torch.utils.data.DataLoader(\n",
    "  torchvision.datasets.MNIST('./Documents/PythonWorkspace', train=False, download=True,\n",
    "                             transform=torchvision.transforms.Compose([\n",
    "                               torchvision.transforms.ToTensor(),\n",
    "                               torchvision.transforms.Normalize(\n",
    "                                 (0.1307,), (0.3081,))\n",
    "                             ])),\n",
    "  batch_size=batch_size_test, shuffle=True)"
   ]
  },
  {
   "cell_type": "code",
   "execution_count": 5,
   "metadata": {},
   "outputs": [],
   "source": [
    "examples = enumerate(test_loader)\n",
    "batch_idx, (example_data, example_targets) = next(examples)"
   ]
  },
  {
   "cell_type": "code",
   "execution_count": 6,
   "metadata": {},
   "outputs": [
    {
     "data": {
      "text/plain": [
       "torch.Size([1000, 1, 28, 28])"
      ]
     },
     "execution_count": 6,
     "metadata": {},
     "output_type": "execute_result"
    }
   ],
   "source": [
    "example_data.shape"
   ]
  },
  {
   "cell_type": "code",
   "execution_count": 7,
   "metadata": {},
   "outputs": [
    {
     "data": {
      "text/plain": [
       "<Figure size 640x480 with 6 Axes>"
      ]
     },
     "execution_count": 7,
     "metadata": {},
     "output_type": "execute_result"
    }
   ],
   "source": [
    "import matplotlib.pyplot as plt\n",
    "\n",
    "fig = plt.figure()\n",
    "for i in range(6):\n",
    "  plt.subplot(2,3,i+1)\n",
    "  plt.tight_layout()\n",
    "  plt.imshow(example_data[i][0], cmap='gray', interpolation='none')\n",
    "  plt.title(\"Ground Truth: {}\".format(example_targets[i]))\n",
    "  plt.xticks([])\n",
    "  plt.yticks([])\n",
    "fig"
   ]
  },
  {
   "cell_type": "code",
   "execution_count": 8,
   "metadata": {},
   "outputs": [],
   "source": [
    "import torch.nn as nn\n",
    "import torch.nn.functional as F\n",
    "import torch.optim as optim"
   ]
  },
  {
   "cell_type": "code",
   "execution_count": 9,
   "metadata": {},
   "outputs": [],
   "source": [
    "class Net(nn.Module):\n",
    "    def __init__(self):\n",
    "        super(Net, self).__init__()\n",
    "        self.conv1 = nn.Conv2d(1, 10, kernel_size=5)\n",
    "        self.conv2 = nn.Conv2d(10, 20, kernel_size=5)\n",
    "        self.conv2_drop = nn.Dropout2d()\n",
    "        self.fc1 = nn.Linear(320, 50)\n",
    "        self.fc2 = nn.Linear(50, 10)\n",
    "\n",
    "    def forward(self, x):\n",
    "        x = F.relu(F.max_pool2d(self.conv1(x), 2))\n",
    "        x = F.relu(F.max_pool2d(self.conv2_drop(self.conv2(x)), 2))\n",
    "        x = x.view(-1, 320)\n",
    "        x = F.relu(self.fc1(x))\n",
    "        x = F.dropout(x, training=self.training)\n",
    "        x = self.fc2(x)\n",
    "        return F.log_softmax(x)"
   ]
  },
  {
   "cell_type": "code",
   "execution_count": 11,
   "metadata": {},
   "outputs": [],
   "source": [
    "network = Net()\n",
    "optimizer = optim.SGD(network.parameters(), lr=learning_rate, momentum=momentum)"
   ]
  },
  {
   "cell_type": "code",
   "execution_count": 12,
   "metadata": {},
   "outputs": [],
   "source": [
    "train_losses = []\n",
    "train_counter = []\n",
    "test_losses = []\n",
    "test_counter = [i*len(train_loader.dataset) for i in range(n_epochs + 1)]"
   ]
  },
  {
   "cell_type": "code",
   "execution_count": 19,
   "metadata": {},
   "outputs": [],
   "source": [
    "def train(epoch):\n",
    "  network.train()\n",
    "  for batch_idx, (data, target) in enumerate(train_loader):\n",
    "    optimizer.zero_grad()\n",
    "    output = network(data)\n",
    "    loss = F.nll_loss(output, target)\n",
    "    loss.backward()\n",
    "    optimizer.step()\n",
    "    if batch_idx % log_interval == 0:\n",
    "      print('Train Epoch: {} [{}/{} ({:.0f}%)]\\tLoss: {:.6f}'.format(\n",
    "        epoch, batch_idx * len(data), len(train_loader.dataset),\n",
    "        100. * batch_idx / len(train_loader), loss.item()))\n",
    "      train_losses.append(loss.item())\n",
    "      train_counter.append(\n",
    "        (batch_idx*64) + ((epoch-1)*len(train_loader.dataset)))\n",
    "      torch.save(network.state_dict(), './Documents/PythonWorkspace/model.pth')\n",
    "      torch.save(optimizer.state_dict(), './Documents/PythonWorkspace/optimizer.pth')"
   ]
  },
  {
   "cell_type": "code",
   "execution_count": 20,
   "metadata": {},
   "outputs": [],
   "source": [
    "def test():\n",
    "  network.eval()\n",
    "  test_loss = 0\n",
    "  correct = 0\n",
    "  with torch.no_grad():\n",
    "    for data, target in test_loader:\n",
    "      output = network(data)\n",
    "      test_loss += F.nll_loss(output, target, size_average=False).item()\n",
    "      pred = output.data.max(1, keepdim=True)[1]\n",
    "      correct += pred.eq(target.data.view_as(pred)).sum()\n",
    "  test_loss /= len(test_loader.dataset)\n",
    "  test_losses.append(test_loss)\n",
    "  print('\\nTest set: Avg. loss: {:.4f}, Accuracy: {}/{} ({:.0f}%)\\n'.format(\n",
    "    test_loss, correct, len(test_loader.dataset),\n",
    "    100. * correct / len(test_loader.dataset)))"
   ]
  },
  {
   "cell_type": "code",
   "execution_count": 21,
   "metadata": {},
   "outputs": [
    {
     "name": "stderr",
     "output_type": "stream",
     "text": [
      "/Users/gejiazhang/anaconda3/lib/python3.7/site-packages/ipykernel_launcher.py:17: UserWarning: Implicit dimension choice for log_softmax has been deprecated. Change the call to include dim=X as an argument.\n"
     ]
    },
    {
     "name": "stdout",
     "output_type": "stream",
     "text": [
      "\n",
      "Test set: Avg. loss: 2.2919, Accuracy: 1090/10000 (11%)\n",
      "\n",
      "Train Epoch: 1 [0/60000 (0%)]\tLoss: 2.294008\n",
      "Train Epoch: 1 [640/60000 (1%)]\tLoss: 2.281380\n",
      "Train Epoch: 1 [1280/60000 (2%)]\tLoss: 2.296973\n",
      "Train Epoch: 1 [1920/60000 (3%)]\tLoss: 2.265300\n",
      "Train Epoch: 1 [2560/60000 (4%)]\tLoss: 2.252779\n",
      "Train Epoch: 1 [3200/60000 (5%)]\tLoss: 2.244723\n",
      "Train Epoch: 1 [3840/60000 (6%)]\tLoss: 2.258410\n",
      "Train Epoch: 1 [4480/60000 (7%)]\tLoss: 2.211463\n",
      "Train Epoch: 1 [5120/60000 (9%)]\tLoss: 2.162043\n",
      "Train Epoch: 1 [5760/60000 (10%)]\tLoss: 2.135211\n",
      "Train Epoch: 1 [6400/60000 (11%)]\tLoss: 2.087303\n",
      "Train Epoch: 1 [7040/60000 (12%)]\tLoss: 1.975637\n",
      "Train Epoch: 1 [7680/60000 (13%)]\tLoss: 1.960631\n",
      "Train Epoch: 1 [8320/60000 (14%)]\tLoss: 1.804835\n",
      "Train Epoch: 1 [8960/60000 (15%)]\tLoss: 1.675609\n",
      "Train Epoch: 1 [9600/60000 (16%)]\tLoss: 1.488627\n",
      "Train Epoch: 1 [10240/60000 (17%)]\tLoss: 1.545056\n",
      "Train Epoch: 1 [10880/60000 (18%)]\tLoss: 1.257703\n",
      "Train Epoch: 1 [11520/60000 (19%)]\tLoss: 1.299850\n",
      "Train Epoch: 1 [12160/60000 (20%)]\tLoss: 1.253066\n",
      "Train Epoch: 1 [12800/60000 (21%)]\tLoss: 1.192066\n",
      "Train Epoch: 1 [13440/60000 (22%)]\tLoss: 0.969897\n",
      "Train Epoch: 1 [14080/60000 (23%)]\tLoss: 1.099636\n",
      "Train Epoch: 1 [14720/60000 (25%)]\tLoss: 0.974514\n",
      "Train Epoch: 1 [15360/60000 (26%)]\tLoss: 1.173135\n",
      "Train Epoch: 1 [16000/60000 (27%)]\tLoss: 1.032539\n",
      "Train Epoch: 1 [16640/60000 (28%)]\tLoss: 0.923147\n",
      "Train Epoch: 1 [17280/60000 (29%)]\tLoss: 0.806775\n",
      "Train Epoch: 1 [17920/60000 (30%)]\tLoss: 0.976406\n",
      "Train Epoch: 1 [18560/60000 (31%)]\tLoss: 0.937201\n",
      "Train Epoch: 1 [19200/60000 (32%)]\tLoss: 0.834528\n",
      "Train Epoch: 1 [19840/60000 (33%)]\tLoss: 0.947141\n",
      "Train Epoch: 1 [20480/60000 (34%)]\tLoss: 0.721974\n",
      "Train Epoch: 1 [21120/60000 (35%)]\tLoss: 0.597560\n",
      "Train Epoch: 1 [21760/60000 (36%)]\tLoss: 0.881495\n",
      "Train Epoch: 1 [22400/60000 (37%)]\tLoss: 0.769526\n",
      "Train Epoch: 1 [23040/60000 (38%)]\tLoss: 0.812773\n",
      "Train Epoch: 1 [23680/60000 (39%)]\tLoss: 0.647952\n",
      "Train Epoch: 1 [24320/60000 (41%)]\tLoss: 0.697409\n",
      "Train Epoch: 1 [24960/60000 (42%)]\tLoss: 0.821822\n",
      "Train Epoch: 1 [25600/60000 (43%)]\tLoss: 0.421886\n",
      "Train Epoch: 1 [26240/60000 (44%)]\tLoss: 0.711146\n",
      "Train Epoch: 1 [26880/60000 (45%)]\tLoss: 0.689991\n",
      "Train Epoch: 1 [27520/60000 (46%)]\tLoss: 0.640043\n",
      "Train Epoch: 1 [28160/60000 (47%)]\tLoss: 0.540441\n",
      "Train Epoch: 1 [28800/60000 (48%)]\tLoss: 0.664915\n",
      "Train Epoch: 1 [29440/60000 (49%)]\tLoss: 0.631693\n",
      "Train Epoch: 1 [30080/60000 (50%)]\tLoss: 0.454539\n",
      "Train Epoch: 1 [30720/60000 (51%)]\tLoss: 0.578264\n",
      "Train Epoch: 1 [31360/60000 (52%)]\tLoss: 0.728370\n",
      "Train Epoch: 1 [32000/60000 (53%)]\tLoss: 0.619763\n",
      "Train Epoch: 1 [32640/60000 (54%)]\tLoss: 0.368626\n",
      "Train Epoch: 1 [33280/60000 (55%)]\tLoss: 0.586326\n",
      "Train Epoch: 1 [33920/60000 (57%)]\tLoss: 0.699403\n",
      "Train Epoch: 1 [34560/60000 (58%)]\tLoss: 0.556289\n",
      "Train Epoch: 1 [35200/60000 (59%)]\tLoss: 0.621979\n",
      "Train Epoch: 1 [35840/60000 (60%)]\tLoss: 0.481018\n",
      "Train Epoch: 1 [36480/60000 (61%)]\tLoss: 0.495667\n",
      "Train Epoch: 1 [37120/60000 (62%)]\tLoss: 0.503912\n",
      "Train Epoch: 1 [37760/60000 (63%)]\tLoss: 0.658171\n",
      "Train Epoch: 1 [38400/60000 (64%)]\tLoss: 0.498304\n",
      "Train Epoch: 1 [39040/60000 (65%)]\tLoss: 0.510709\n",
      "Train Epoch: 1 [39680/60000 (66%)]\tLoss: 0.423200\n",
      "Train Epoch: 1 [40320/60000 (67%)]\tLoss: 0.751033\n",
      "Train Epoch: 1 [40960/60000 (68%)]\tLoss: 0.755816\n",
      "Train Epoch: 1 [41600/60000 (69%)]\tLoss: 0.437487\n",
      "Train Epoch: 1 [42240/60000 (70%)]\tLoss: 0.519723\n",
      "Train Epoch: 1 [42880/60000 (71%)]\tLoss: 0.425617\n",
      "Train Epoch: 1 [43520/60000 (72%)]\tLoss: 0.596998\n",
      "Train Epoch: 1 [44160/60000 (74%)]\tLoss: 0.397918\n",
      "Train Epoch: 1 [44800/60000 (75%)]\tLoss: 0.327097\n",
      "Train Epoch: 1 [45440/60000 (76%)]\tLoss: 0.416047\n",
      "Train Epoch: 1 [46080/60000 (77%)]\tLoss: 0.336048\n",
      "Train Epoch: 1 [46720/60000 (78%)]\tLoss: 0.477454\n",
      "Train Epoch: 1 [47360/60000 (79%)]\tLoss: 0.521824\n",
      "Train Epoch: 1 [48000/60000 (80%)]\tLoss: 0.507229\n",
      "Train Epoch: 1 [48640/60000 (81%)]\tLoss: 0.367480\n",
      "Train Epoch: 1 [49280/60000 (82%)]\tLoss: 0.345998\n",
      "Train Epoch: 1 [49920/60000 (83%)]\tLoss: 0.417506\n",
      "Train Epoch: 1 [50560/60000 (84%)]\tLoss: 0.401844\n",
      "Train Epoch: 1 [51200/60000 (85%)]\tLoss: 0.745936\n",
      "Train Epoch: 1 [51840/60000 (86%)]\tLoss: 0.531947\n",
      "Train Epoch: 1 [52480/60000 (87%)]\tLoss: 0.343174\n",
      "Train Epoch: 1 [53120/60000 (88%)]\tLoss: 0.426813\n",
      "Train Epoch: 1 [53760/60000 (90%)]\tLoss: 0.505509\n",
      "Train Epoch: 1 [54400/60000 (91%)]\tLoss: 0.533786\n",
      "Train Epoch: 1 [55040/60000 (92%)]\tLoss: 0.448782\n",
      "Train Epoch: 1 [55680/60000 (93%)]\tLoss: 0.451882\n",
      "Train Epoch: 1 [56320/60000 (94%)]\tLoss: 0.519830\n",
      "Train Epoch: 1 [56960/60000 (95%)]\tLoss: 0.528904\n",
      "Train Epoch: 1 [57600/60000 (96%)]\tLoss: 0.511020\n",
      "Train Epoch: 1 [58240/60000 (97%)]\tLoss: 0.506487\n",
      "Train Epoch: 1 [58880/60000 (98%)]\tLoss: 0.488192\n",
      "Train Epoch: 1 [59520/60000 (99%)]\tLoss: 0.821573\n",
      "\n",
      "Test set: Avg. loss: 0.1902, Accuracy: 9405/10000 (94%)\n",
      "\n",
      "Train Epoch: 2 [0/60000 (0%)]\tLoss: 0.546304\n",
      "Train Epoch: 2 [640/60000 (1%)]\tLoss: 0.275719\n",
      "Train Epoch: 2 [1280/60000 (2%)]\tLoss: 0.399639\n",
      "Train Epoch: 2 [1920/60000 (3%)]\tLoss: 0.373168\n",
      "Train Epoch: 2 [2560/60000 (4%)]\tLoss: 0.427167\n",
      "Train Epoch: 2 [3200/60000 (5%)]\tLoss: 0.476384\n",
      "Train Epoch: 2 [3840/60000 (6%)]\tLoss: 0.527904\n",
      "Train Epoch: 2 [4480/60000 (7%)]\tLoss: 0.398334\n",
      "Train Epoch: 2 [5120/60000 (9%)]\tLoss: 0.533123\n",
      "Train Epoch: 2 [5760/60000 (10%)]\tLoss: 0.451331\n",
      "Train Epoch: 2 [6400/60000 (11%)]\tLoss: 0.543614\n",
      "Train Epoch: 2 [7040/60000 (12%)]\tLoss: 0.507113\n",
      "Train Epoch: 2 [7680/60000 (13%)]\tLoss: 0.403112\n",
      "Train Epoch: 2 [8320/60000 (14%)]\tLoss: 0.555520\n",
      "Train Epoch: 2 [8960/60000 (15%)]\tLoss: 0.251932\n",
      "Train Epoch: 2 [9600/60000 (16%)]\tLoss: 0.427185\n",
      "Train Epoch: 2 [10240/60000 (17%)]\tLoss: 0.249123\n",
      "Train Epoch: 2 [10880/60000 (18%)]\tLoss: 0.268084\n",
      "Train Epoch: 2 [11520/60000 (19%)]\tLoss: 0.394215\n",
      "Train Epoch: 2 [12160/60000 (20%)]\tLoss: 0.501901\n",
      "Train Epoch: 2 [12800/60000 (21%)]\tLoss: 0.590855\n",
      "Train Epoch: 2 [13440/60000 (22%)]\tLoss: 0.468151\n",
      "Train Epoch: 2 [14080/60000 (23%)]\tLoss: 0.284243\n",
      "Train Epoch: 2 [14720/60000 (25%)]\tLoss: 0.388089\n",
      "Train Epoch: 2 [15360/60000 (26%)]\tLoss: 0.446025\n",
      "Train Epoch: 2 [16000/60000 (27%)]\tLoss: 0.393363\n",
      "Train Epoch: 2 [16640/60000 (28%)]\tLoss: 0.338969\n",
      "Train Epoch: 2 [17280/60000 (29%)]\tLoss: 0.471084\n",
      "Train Epoch: 2 [17920/60000 (30%)]\tLoss: 0.542770\n",
      "Train Epoch: 2 [18560/60000 (31%)]\tLoss: 0.230451\n",
      "Train Epoch: 2 [19200/60000 (32%)]\tLoss: 0.317667\n",
      "Train Epoch: 2 [19840/60000 (33%)]\tLoss: 0.443937\n",
      "Train Epoch: 2 [20480/60000 (34%)]\tLoss: 0.462463\n",
      "Train Epoch: 2 [21120/60000 (35%)]\tLoss: 0.266844\n",
      "Train Epoch: 2 [21760/60000 (36%)]\tLoss: 0.366180\n",
      "Train Epoch: 2 [22400/60000 (37%)]\tLoss: 0.236762\n",
      "Train Epoch: 2 [23040/60000 (38%)]\tLoss: 0.608087\n",
      "Train Epoch: 2 [23680/60000 (39%)]\tLoss: 0.486156\n",
      "Train Epoch: 2 [24320/60000 (41%)]\tLoss: 0.242781\n",
      "Train Epoch: 2 [24960/60000 (42%)]\tLoss: 0.332112\n",
      "Train Epoch: 2 [25600/60000 (43%)]\tLoss: 0.396751\n",
      "Train Epoch: 2 [26240/60000 (44%)]\tLoss: 0.294630\n",
      "Train Epoch: 2 [26880/60000 (45%)]\tLoss: 0.269655\n",
      "Train Epoch: 2 [27520/60000 (46%)]\tLoss: 0.493066\n",
      "Train Epoch: 2 [28160/60000 (47%)]\tLoss: 0.384215\n",
      "Train Epoch: 2 [28800/60000 (48%)]\tLoss: 0.363354\n",
      "Train Epoch: 2 [29440/60000 (49%)]\tLoss: 0.406552\n",
      "Train Epoch: 2 [30080/60000 (50%)]\tLoss: 0.287023\n",
      "Train Epoch: 2 [30720/60000 (51%)]\tLoss: 0.295601\n",
      "Train Epoch: 2 [31360/60000 (52%)]\tLoss: 0.250189\n",
      "Train Epoch: 2 [32000/60000 (53%)]\tLoss: 0.339083\n",
      "Train Epoch: 2 [32640/60000 (54%)]\tLoss: 0.353055\n",
      "Train Epoch: 2 [33280/60000 (55%)]\tLoss: 0.335248\n",
      "Train Epoch: 2 [33920/60000 (57%)]\tLoss: 0.168349\n",
      "Train Epoch: 2 [34560/60000 (58%)]\tLoss: 0.494611\n",
      "Train Epoch: 2 [35200/60000 (59%)]\tLoss: 0.368330\n",
      "Train Epoch: 2 [35840/60000 (60%)]\tLoss: 0.505713\n",
      "Train Epoch: 2 [36480/60000 (61%)]\tLoss: 0.286741\n",
      "Train Epoch: 2 [37120/60000 (62%)]\tLoss: 0.331918\n",
      "Train Epoch: 2 [37760/60000 (63%)]\tLoss: 0.256796\n",
      "Train Epoch: 2 [38400/60000 (64%)]\tLoss: 0.249270\n",
      "Train Epoch: 2 [39040/60000 (65%)]\tLoss: 0.369720\n",
      "Train Epoch: 2 [39680/60000 (66%)]\tLoss: 0.396949\n",
      "Train Epoch: 2 [40320/60000 (67%)]\tLoss: 0.533652\n",
      "Train Epoch: 2 [40960/60000 (68%)]\tLoss: 0.278950\n",
      "Train Epoch: 2 [41600/60000 (69%)]\tLoss: 0.225874\n",
      "Train Epoch: 2 [42240/60000 (70%)]\tLoss: 0.435766\n",
      "Train Epoch: 2 [42880/60000 (71%)]\tLoss: 0.285969\n",
      "Train Epoch: 2 [43520/60000 (72%)]\tLoss: 0.319542\n"
     ]
    },
    {
     "name": "stdout",
     "output_type": "stream",
     "text": [
      "Train Epoch: 2 [44160/60000 (74%)]\tLoss: 0.574812\n",
      "Train Epoch: 2 [44800/60000 (75%)]\tLoss: 0.475508\n",
      "Train Epoch: 2 [45440/60000 (76%)]\tLoss: 0.407826\n",
      "Train Epoch: 2 [46080/60000 (77%)]\tLoss: 0.453075\n",
      "Train Epoch: 2 [46720/60000 (78%)]\tLoss: 0.193857\n",
      "Train Epoch: 2 [47360/60000 (79%)]\tLoss: 0.622754\n",
      "Train Epoch: 2 [48000/60000 (80%)]\tLoss: 0.265453\n",
      "Train Epoch: 2 [48640/60000 (81%)]\tLoss: 0.420519\n",
      "Train Epoch: 2 [49280/60000 (82%)]\tLoss: 0.186983\n",
      "Train Epoch: 2 [49920/60000 (83%)]\tLoss: 0.336841\n",
      "Train Epoch: 2 [50560/60000 (84%)]\tLoss: 0.264929\n",
      "Train Epoch: 2 [51200/60000 (85%)]\tLoss: 0.216633\n",
      "Train Epoch: 2 [51840/60000 (86%)]\tLoss: 0.300108\n",
      "Train Epoch: 2 [52480/60000 (87%)]\tLoss: 0.161560\n",
      "Train Epoch: 2 [53120/60000 (88%)]\tLoss: 0.230581\n",
      "Train Epoch: 2 [53760/60000 (90%)]\tLoss: 0.234485\n",
      "Train Epoch: 2 [54400/60000 (91%)]\tLoss: 0.333287\n",
      "Train Epoch: 2 [55040/60000 (92%)]\tLoss: 0.563310\n",
      "Train Epoch: 2 [55680/60000 (93%)]\tLoss: 0.282829\n",
      "Train Epoch: 2 [56320/60000 (94%)]\tLoss: 0.307322\n",
      "Train Epoch: 2 [56960/60000 (95%)]\tLoss: 0.286550\n",
      "Train Epoch: 2 [57600/60000 (96%)]\tLoss: 0.205638\n",
      "Train Epoch: 2 [58240/60000 (97%)]\tLoss: 0.232097\n",
      "Train Epoch: 2 [58880/60000 (98%)]\tLoss: 0.310241\n",
      "Train Epoch: 2 [59520/60000 (99%)]\tLoss: 0.301423\n",
      "\n",
      "Test set: Avg. loss: 0.1155, Accuracy: 9622/10000 (96%)\n",
      "\n",
      "Train Epoch: 3 [0/60000 (0%)]\tLoss: 0.435814\n",
      "Train Epoch: 3 [640/60000 (1%)]\tLoss: 0.282671\n",
      "Train Epoch: 3 [1280/60000 (2%)]\tLoss: 0.351157\n",
      "Train Epoch: 3 [1920/60000 (3%)]\tLoss: 0.484995\n",
      "Train Epoch: 3 [2560/60000 (4%)]\tLoss: 0.423030\n",
      "Train Epoch: 3 [3200/60000 (5%)]\tLoss: 0.277351\n",
      "Train Epoch: 3 [3840/60000 (6%)]\tLoss: 0.260264\n",
      "Train Epoch: 3 [4480/60000 (7%)]\tLoss: 0.208916\n",
      "Train Epoch: 3 [5120/60000 (9%)]\tLoss: 0.270977\n",
      "Train Epoch: 3 [5760/60000 (10%)]\tLoss: 0.501196\n",
      "Train Epoch: 3 [6400/60000 (11%)]\tLoss: 0.325311\n",
      "Train Epoch: 3 [7040/60000 (12%)]\tLoss: 0.295912\n",
      "Train Epoch: 3 [7680/60000 (13%)]\tLoss: 0.430752\n",
      "Train Epoch: 3 [8320/60000 (14%)]\tLoss: 0.373056\n",
      "Train Epoch: 3 [8960/60000 (15%)]\tLoss: 0.141912\n",
      "Train Epoch: 3 [9600/60000 (16%)]\tLoss: 0.209286\n",
      "Train Epoch: 3 [10240/60000 (17%)]\tLoss: 0.199735\n",
      "Train Epoch: 3 [10880/60000 (18%)]\tLoss: 0.400470\n",
      "Train Epoch: 3 [11520/60000 (19%)]\tLoss: 0.199717\n",
      "Train Epoch: 3 [12160/60000 (20%)]\tLoss: 0.322890\n",
      "Train Epoch: 3 [12800/60000 (21%)]\tLoss: 0.337174\n",
      "Train Epoch: 3 [13440/60000 (22%)]\tLoss: 0.117622\n",
      "Train Epoch: 3 [14080/60000 (23%)]\tLoss: 0.498395\n",
      "Train Epoch: 3 [14720/60000 (25%)]\tLoss: 0.220293\n",
      "Train Epoch: 3 [15360/60000 (26%)]\tLoss: 0.689267\n",
      "Train Epoch: 3 [16000/60000 (27%)]\tLoss: 0.332239\n",
      "Train Epoch: 3 [16640/60000 (28%)]\tLoss: 0.192510\n",
      "Train Epoch: 3 [17280/60000 (29%)]\tLoss: 0.225618\n",
      "Train Epoch: 3 [17920/60000 (30%)]\tLoss: 0.395011\n",
      "Train Epoch: 3 [18560/60000 (31%)]\tLoss: 0.295617\n",
      "Train Epoch: 3 [19200/60000 (32%)]\tLoss: 0.341907\n",
      "Train Epoch: 3 [19840/60000 (33%)]\tLoss: 0.278029\n",
      "Train Epoch: 3 [20480/60000 (34%)]\tLoss: 0.274008\n",
      "Train Epoch: 3 [21120/60000 (35%)]\tLoss: 0.246394\n",
      "Train Epoch: 3 [21760/60000 (36%)]\tLoss: 0.207018\n",
      "Train Epoch: 3 [22400/60000 (37%)]\tLoss: 0.392244\n",
      "Train Epoch: 3 [23040/60000 (38%)]\tLoss: 0.561278\n",
      "Train Epoch: 3 [23680/60000 (39%)]\tLoss: 0.221435\n",
      "Train Epoch: 3 [24320/60000 (41%)]\tLoss: 0.306698\n",
      "Train Epoch: 3 [24960/60000 (42%)]\tLoss: 0.357460\n",
      "Train Epoch: 3 [25600/60000 (43%)]\tLoss: 0.345978\n",
      "Train Epoch: 3 [26240/60000 (44%)]\tLoss: 0.216262\n",
      "Train Epoch: 3 [26880/60000 (45%)]\tLoss: 0.251749\n",
      "Train Epoch: 3 [27520/60000 (46%)]\tLoss: 0.380732\n",
      "Train Epoch: 3 [28160/60000 (47%)]\tLoss: 0.300252\n",
      "Train Epoch: 3 [28800/60000 (48%)]\tLoss: 0.218151\n",
      "Train Epoch: 3 [29440/60000 (49%)]\tLoss: 0.294969\n",
      "Train Epoch: 3 [30080/60000 (50%)]\tLoss: 0.169392\n",
      "Train Epoch: 3 [30720/60000 (51%)]\tLoss: 0.321425\n",
      "Train Epoch: 3 [31360/60000 (52%)]\tLoss: 0.235566\n",
      "Train Epoch: 3 [32000/60000 (53%)]\tLoss: 0.233815\n",
      "Train Epoch: 3 [32640/60000 (54%)]\tLoss: 0.211928\n",
      "Train Epoch: 3 [33280/60000 (55%)]\tLoss: 0.339448\n",
      "Train Epoch: 3 [33920/60000 (57%)]\tLoss: 0.248456\n",
      "Train Epoch: 3 [34560/60000 (58%)]\tLoss: 0.175218\n",
      "Train Epoch: 3 [35200/60000 (59%)]\tLoss: 0.135161\n",
      "Train Epoch: 3 [35840/60000 (60%)]\tLoss: 0.364068\n",
      "Train Epoch: 3 [36480/60000 (61%)]\tLoss: 0.367937\n",
      "Train Epoch: 3 [37120/60000 (62%)]\tLoss: 0.408225\n",
      "Train Epoch: 3 [37760/60000 (63%)]\tLoss: 0.202401\n",
      "Train Epoch: 3 [38400/60000 (64%)]\tLoss: 0.236881\n",
      "Train Epoch: 3 [39040/60000 (65%)]\tLoss: 0.380470\n",
      "Train Epoch: 3 [39680/60000 (66%)]\tLoss: 0.242600\n",
      "Train Epoch: 3 [40320/60000 (67%)]\tLoss: 0.151398\n",
      "Train Epoch: 3 [40960/60000 (68%)]\tLoss: 0.098924\n",
      "Train Epoch: 3 [41600/60000 (69%)]\tLoss: 0.222751\n",
      "Train Epoch: 3 [42240/60000 (70%)]\tLoss: 0.154717\n",
      "Train Epoch: 3 [42880/60000 (71%)]\tLoss: 0.384662\n",
      "Train Epoch: 3 [43520/60000 (72%)]\tLoss: 0.287398\n",
      "Train Epoch: 3 [44160/60000 (74%)]\tLoss: 0.260151\n",
      "Train Epoch: 3 [44800/60000 (75%)]\tLoss: 0.449188\n",
      "Train Epoch: 3 [45440/60000 (76%)]\tLoss: 0.303655\n",
      "Train Epoch: 3 [46080/60000 (77%)]\tLoss: 0.274339\n",
      "Train Epoch: 3 [46720/60000 (78%)]\tLoss: 0.287945\n",
      "Train Epoch: 3 [47360/60000 (79%)]\tLoss: 0.224135\n",
      "Train Epoch: 3 [48000/60000 (80%)]\tLoss: 0.202158\n",
      "Train Epoch: 3 [48640/60000 (81%)]\tLoss: 0.220230\n",
      "Train Epoch: 3 [49280/60000 (82%)]\tLoss: 0.388243\n",
      "Train Epoch: 3 [49920/60000 (83%)]\tLoss: 0.361305\n",
      "Train Epoch: 3 [50560/60000 (84%)]\tLoss: 0.263513\n",
      "Train Epoch: 3 [51200/60000 (85%)]\tLoss: 0.339115\n",
      "Train Epoch: 3 [51840/60000 (86%)]\tLoss: 0.173593\n",
      "Train Epoch: 3 [52480/60000 (87%)]\tLoss: 0.255673\n",
      "Train Epoch: 3 [53120/60000 (88%)]\tLoss: 0.300501\n",
      "Train Epoch: 3 [53760/60000 (90%)]\tLoss: 0.418458\n",
      "Train Epoch: 3 [54400/60000 (91%)]\tLoss: 0.378948\n",
      "Train Epoch: 3 [55040/60000 (92%)]\tLoss: 0.429546\n",
      "Train Epoch: 3 [55680/60000 (93%)]\tLoss: 0.222595\n",
      "Train Epoch: 3 [56320/60000 (94%)]\tLoss: 0.175619\n",
      "Train Epoch: 3 [56960/60000 (95%)]\tLoss: 0.253914\n",
      "Train Epoch: 3 [57600/60000 (96%)]\tLoss: 0.303856\n",
      "Train Epoch: 3 [58240/60000 (97%)]\tLoss: 0.297569\n",
      "Train Epoch: 3 [58880/60000 (98%)]\tLoss: 0.257803\n",
      "Train Epoch: 3 [59520/60000 (99%)]\tLoss: 0.344005\n",
      "\n",
      "Test set: Avg. loss: 0.0895, Accuracy: 9719/10000 (97%)\n",
      "\n"
     ]
    }
   ],
   "source": [
    "test()\n",
    "for epoch in range(1, n_epochs + 1):\n",
    "  train(epoch)\n",
    "  test()"
   ]
  },
  {
   "cell_type": "code",
   "execution_count": null,
   "metadata": {},
   "outputs": [],
   "source": []
  }
 ],
 "metadata": {
  "kernelspec": {
   "display_name": "Python 3",
   "language": "python",
   "name": "python3"
  },
  "language_info": {
   "codemirror_mode": {
    "name": "ipython",
    "version": 3
   },
   "file_extension": ".py",
   "mimetype": "text/x-python",
   "name": "python",
   "nbconvert_exporter": "python",
   "pygments_lexer": "ipython3",
   "version": "3.7.3"
  }
 },
 "nbformat": 4,
 "nbformat_minor": 2
}
